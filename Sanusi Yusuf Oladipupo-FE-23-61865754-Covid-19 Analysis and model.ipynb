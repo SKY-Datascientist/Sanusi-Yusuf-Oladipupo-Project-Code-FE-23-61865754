{
 "cells": [
  {
   "cell_type": "markdown",
   "id": "4fdce18d-4df8-4f92-a340-9c900f31e369",
   "metadata": {},
   "source": [
    "# **Import Libraries**"
   ]
  },
  {
   "cell_type": "code",
   "execution_count": 2,
   "id": "d9317320-795a-4306-94dd-ad523a59702b",
   "metadata": {},
   "outputs": [],
   "source": [
    "import pandas as pd\n",
    "import seaborn as sns\n",
    "import matplotlib.pyplot as plt"
   ]
  },
  {
   "cell_type": "markdown",
   "id": "67e85c9a-5901-4b19-8786-4bdc1d08f35d",
   "metadata": {},
   "source": [
    "# Read CSV"
   ]
  },
  {
   "cell_type": "code",
   "execution_count": 4,
   "id": "dd7ed3b5-d41e-436b-a988-c33edd98efeb",
   "metadata": {},
   "outputs": [],
   "source": [
    "covid_data = pd.read_csv(r\"C:\\Users\\user\\Desktop\\data Science weekly Lectures\\full_grouped.csv\")"
   ]
  },
  {
   "cell_type": "code",
   "execution_count": 5,
   "id": "963471b4-71f7-400c-95e0-5c0304406c26",
   "metadata": {},
   "outputs": [
    {
     "data": {
      "text/html": [
       "<div>\n",
       "<style scoped>\n",
       "    .dataframe tbody tr th:only-of-type {\n",
       "        vertical-align: middle;\n",
       "    }\n",
       "\n",
       "    .dataframe tbody tr th {\n",
       "        vertical-align: top;\n",
       "    }\n",
       "\n",
       "    .dataframe thead th {\n",
       "        text-align: right;\n",
       "    }\n",
       "</style>\n",
       "<table border=\"1\" class=\"dataframe\">\n",
       "  <thead>\n",
       "    <tr style=\"text-align: right;\">\n",
       "      <th></th>\n",
       "      <th>Date</th>\n",
       "      <th>Country/Region</th>\n",
       "      <th>Confirmed</th>\n",
       "      <th>Deaths</th>\n",
       "      <th>Recovered</th>\n",
       "      <th>Active</th>\n",
       "      <th>New cases</th>\n",
       "      <th>New deaths</th>\n",
       "      <th>New recovered</th>\n",
       "      <th>WHO Region</th>\n",
       "    </tr>\n",
       "  </thead>\n",
       "  <tbody>\n",
       "    <tr>\n",
       "      <th>0</th>\n",
       "      <td>2020-01-22</td>\n",
       "      <td>Afghanistan</td>\n",
       "      <td>0</td>\n",
       "      <td>0</td>\n",
       "      <td>0</td>\n",
       "      <td>0</td>\n",
       "      <td>0</td>\n",
       "      <td>0</td>\n",
       "      <td>0</td>\n",
       "      <td>Eastern Mediterranean</td>\n",
       "    </tr>\n",
       "    <tr>\n",
       "      <th>1</th>\n",
       "      <td>2020-01-22</td>\n",
       "      <td>Albania</td>\n",
       "      <td>0</td>\n",
       "      <td>0</td>\n",
       "      <td>0</td>\n",
       "      <td>0</td>\n",
       "      <td>0</td>\n",
       "      <td>0</td>\n",
       "      <td>0</td>\n",
       "      <td>Europe</td>\n",
       "    </tr>\n",
       "    <tr>\n",
       "      <th>2</th>\n",
       "      <td>2020-01-22</td>\n",
       "      <td>Algeria</td>\n",
       "      <td>0</td>\n",
       "      <td>0</td>\n",
       "      <td>0</td>\n",
       "      <td>0</td>\n",
       "      <td>0</td>\n",
       "      <td>0</td>\n",
       "      <td>0</td>\n",
       "      <td>Africa</td>\n",
       "    </tr>\n",
       "    <tr>\n",
       "      <th>3</th>\n",
       "      <td>2020-01-22</td>\n",
       "      <td>Andorra</td>\n",
       "      <td>0</td>\n",
       "      <td>0</td>\n",
       "      <td>0</td>\n",
       "      <td>0</td>\n",
       "      <td>0</td>\n",
       "      <td>0</td>\n",
       "      <td>0</td>\n",
       "      <td>Europe</td>\n",
       "    </tr>\n",
       "    <tr>\n",
       "      <th>4</th>\n",
       "      <td>2020-01-22</td>\n",
       "      <td>Angola</td>\n",
       "      <td>0</td>\n",
       "      <td>0</td>\n",
       "      <td>0</td>\n",
       "      <td>0</td>\n",
       "      <td>0</td>\n",
       "      <td>0</td>\n",
       "      <td>0</td>\n",
       "      <td>Africa</td>\n",
       "    </tr>\n",
       "    <tr>\n",
       "      <th>...</th>\n",
       "      <td>...</td>\n",
       "      <td>...</td>\n",
       "      <td>...</td>\n",
       "      <td>...</td>\n",
       "      <td>...</td>\n",
       "      <td>...</td>\n",
       "      <td>...</td>\n",
       "      <td>...</td>\n",
       "      <td>...</td>\n",
       "      <td>...</td>\n",
       "    </tr>\n",
       "    <tr>\n",
       "      <th>35151</th>\n",
       "      <td>2020-07-27</td>\n",
       "      <td>West Bank and Gaza</td>\n",
       "      <td>10621</td>\n",
       "      <td>78</td>\n",
       "      <td>3752</td>\n",
       "      <td>6791</td>\n",
       "      <td>152</td>\n",
       "      <td>2</td>\n",
       "      <td>0</td>\n",
       "      <td>Eastern Mediterranean</td>\n",
       "    </tr>\n",
       "    <tr>\n",
       "      <th>35152</th>\n",
       "      <td>2020-07-27</td>\n",
       "      <td>Western Sahara</td>\n",
       "      <td>10</td>\n",
       "      <td>1</td>\n",
       "      <td>8</td>\n",
       "      <td>1</td>\n",
       "      <td>0</td>\n",
       "      <td>0</td>\n",
       "      <td>0</td>\n",
       "      <td>Africa</td>\n",
       "    </tr>\n",
       "    <tr>\n",
       "      <th>35153</th>\n",
       "      <td>2020-07-27</td>\n",
       "      <td>Yemen</td>\n",
       "      <td>1691</td>\n",
       "      <td>483</td>\n",
       "      <td>833</td>\n",
       "      <td>375</td>\n",
       "      <td>10</td>\n",
       "      <td>4</td>\n",
       "      <td>36</td>\n",
       "      <td>Eastern Mediterranean</td>\n",
       "    </tr>\n",
       "    <tr>\n",
       "      <th>35154</th>\n",
       "      <td>2020-07-27</td>\n",
       "      <td>Zambia</td>\n",
       "      <td>4552</td>\n",
       "      <td>140</td>\n",
       "      <td>2815</td>\n",
       "      <td>1597</td>\n",
       "      <td>71</td>\n",
       "      <td>1</td>\n",
       "      <td>465</td>\n",
       "      <td>Africa</td>\n",
       "    </tr>\n",
       "    <tr>\n",
       "      <th>35155</th>\n",
       "      <td>2020-07-27</td>\n",
       "      <td>Zimbabwe</td>\n",
       "      <td>2704</td>\n",
       "      <td>36</td>\n",
       "      <td>542</td>\n",
       "      <td>2126</td>\n",
       "      <td>192</td>\n",
       "      <td>2</td>\n",
       "      <td>24</td>\n",
       "      <td>Africa</td>\n",
       "    </tr>\n",
       "  </tbody>\n",
       "</table>\n",
       "<p>35156 rows × 10 columns</p>\n",
       "</div>"
      ],
      "text/plain": [
       "             Date      Country/Region  Confirmed  Deaths  Recovered  Active  \\\n",
       "0      2020-01-22         Afghanistan          0       0          0       0   \n",
       "1      2020-01-22             Albania          0       0          0       0   \n",
       "2      2020-01-22             Algeria          0       0          0       0   \n",
       "3      2020-01-22             Andorra          0       0          0       0   \n",
       "4      2020-01-22              Angola          0       0          0       0   \n",
       "...           ...                 ...        ...     ...        ...     ...   \n",
       "35151  2020-07-27  West Bank and Gaza      10621      78       3752    6791   \n",
       "35152  2020-07-27      Western Sahara         10       1          8       1   \n",
       "35153  2020-07-27               Yemen       1691     483        833     375   \n",
       "35154  2020-07-27              Zambia       4552     140       2815    1597   \n",
       "35155  2020-07-27            Zimbabwe       2704      36        542    2126   \n",
       "\n",
       "       New cases  New deaths  New recovered             WHO Region  \n",
       "0              0           0              0  Eastern Mediterranean  \n",
       "1              0           0              0                 Europe  \n",
       "2              0           0              0                 Africa  \n",
       "3              0           0              0                 Europe  \n",
       "4              0           0              0                 Africa  \n",
       "...          ...         ...            ...                    ...  \n",
       "35151        152           2              0  Eastern Mediterranean  \n",
       "35152          0           0              0                 Africa  \n",
       "35153         10           4             36  Eastern Mediterranean  \n",
       "35154         71           1            465                 Africa  \n",
       "35155        192           2             24                 Africa  \n",
       "\n",
       "[35156 rows x 10 columns]"
      ]
     },
     "execution_count": 5,
     "metadata": {},
     "output_type": "execute_result"
    }
   ],
   "source": [
    "covid_data"
   ]
  },
  {
   "cell_type": "markdown",
   "id": "f476cb90-3b3d-45d5-8dbb-bb52330ae989",
   "metadata": {},
   "source": [
    "# **Data Cleaning**"
   ]
  },
  {
   "cell_type": "code",
   "execution_count": 7,
   "id": "d3575a9f-9a22-4daa-94b1-d774f667a1cf",
   "metadata": {},
   "outputs": [
    {
     "name": "stdout",
     "output_type": "stream",
     "text": [
      "<class 'pandas.core.frame.DataFrame'>\n",
      "RangeIndex: 35156 entries, 0 to 35155\n",
      "Data columns (total 10 columns):\n",
      " #   Column          Non-Null Count  Dtype \n",
      "---  ------          --------------  ----- \n",
      " 0   Date            35156 non-null  object\n",
      " 1   Country/Region  35156 non-null  object\n",
      " 2   Confirmed       35156 non-null  int64 \n",
      " 3   Deaths          35156 non-null  int64 \n",
      " 4   Recovered       35156 non-null  int64 \n",
      " 5   Active          35156 non-null  int64 \n",
      " 6   New cases       35156 non-null  int64 \n",
      " 7   New deaths      35156 non-null  int64 \n",
      " 8   New recovered   35156 non-null  int64 \n",
      " 9   WHO Region      35156 non-null  object\n",
      "dtypes: int64(7), object(3)\n",
      "memory usage: 2.7+ MB\n"
     ]
    }
   ],
   "source": [
    "covid_data.info()"
   ]
  },
  {
   "cell_type": "code",
   "execution_count": 192,
   "id": "df0379c0-78b2-487d-a23e-8377a3364533",
   "metadata": {},
   "outputs": [
    {
     "data": {
      "text/html": [
       "<div>\n",
       "<style scoped>\n",
       "    .dataframe tbody tr th:only-of-type {\n",
       "        vertical-align: middle;\n",
       "    }\n",
       "\n",
       "    .dataframe tbody tr th {\n",
       "        vertical-align: top;\n",
       "    }\n",
       "\n",
       "    .dataframe thead th {\n",
       "        text-align: right;\n",
       "    }\n",
       "</style>\n",
       "<table border=\"1\" class=\"dataframe\">\n",
       "  <thead>\n",
       "    <tr style=\"text-align: right;\">\n",
       "      <th></th>\n",
       "      <th>Country/Region</th>\n",
       "      <th>Confirmed</th>\n",
       "      <th>Deaths</th>\n",
       "      <th>Recovered</th>\n",
       "      <th>Active</th>\n",
       "      <th>New cases</th>\n",
       "      <th>New deaths</th>\n",
       "      <th>New recovered</th>\n",
       "      <th>WHO Region</th>\n",
       "      <th>Motality Ratio</th>\n",
       "      <th>Daily Growth Rates</th>\n",
       "    </tr>\n",
       "  </thead>\n",
       "  <tbody>\n",
       "    <tr>\n",
       "      <th>count</th>\n",
       "      <td>35156.000000</td>\n",
       "      <td>3.515600e+04</td>\n",
       "      <td>35156.000000</td>\n",
       "      <td>35156.000000</td>\n",
       "      <td>35156.000000</td>\n",
       "      <td>35156.000000</td>\n",
       "      <td>35156.000000</td>\n",
       "      <td>35156.000000</td>\n",
       "      <td>35156.000000</td>\n",
       "      <td>35156.000000</td>\n",
       "      <td>35156.000000</td>\n",
       "    </tr>\n",
       "    <tr>\n",
       "      <th>mean</th>\n",
       "      <td>93.000000</td>\n",
       "      <td>5.493056e-03</td>\n",
       "      <td>0.008338</td>\n",
       "      <td>0.005983</td>\n",
       "      <td>0.004007</td>\n",
       "      <td>0.006076</td>\n",
       "      <td>0.004786</td>\n",
       "      <td>0.001923</td>\n",
       "      <td>1.962567</td>\n",
       "      <td>-0.304412</td>\n",
       "      <td>34.305768</td>\n",
       "    </tr>\n",
       "    <tr>\n",
       "      <th>std</th>\n",
       "      <td>53.982246</td>\n",
       "      <td>3.495869e-02</td>\n",
       "      <td>0.050248</td>\n",
       "      <td>0.034953</td>\n",
       "      <td>0.031945</td>\n",
       "      <td>0.038908</td>\n",
       "      <td>0.029768</td>\n",
       "      <td>0.014767</td>\n",
       "      <td>1.579872</td>\n",
       "      <td>1.759285</td>\n",
       "      <td>641.560666</td>\n",
       "    </tr>\n",
       "    <tr>\n",
       "      <th>min</th>\n",
       "      <td>0.000000</td>\n",
       "      <td>0.000000e+00</td>\n",
       "      <td>0.000000</td>\n",
       "      <td>0.000000</td>\n",
       "      <td>-0.000001</td>\n",
       "      <td>0.000000</td>\n",
       "      <td>-0.493440</td>\n",
       "      <td>-0.116373</td>\n",
       "      <td>0.000000</td>\n",
       "      <td>-114.485833</td>\n",
       "      <td>-1.000000</td>\n",
       "    </tr>\n",
       "    <tr>\n",
       "      <th>25%</th>\n",
       "      <td>46.000000</td>\n",
       "      <td>2.330862e-07</td>\n",
       "      <td>0.000000</td>\n",
       "      <td>0.000000</td>\n",
       "      <td>0.000000</td>\n",
       "      <td>0.000000</td>\n",
       "      <td>0.000000</td>\n",
       "      <td>0.000000</td>\n",
       "      <td>0.000000</td>\n",
       "      <td>0.000000</td>\n",
       "      <td>-0.900898</td>\n",
       "    </tr>\n",
       "    <tr>\n",
       "      <th>50%</th>\n",
       "      <td>93.000000</td>\n",
       "      <td>5.827154e-05</td>\n",
       "      <td>0.000027</td>\n",
       "      <td>0.000018</td>\n",
       "      <td>0.000030</td>\n",
       "      <td>0.000026</td>\n",
       "      <td>0.000000</td>\n",
       "      <td>0.000000</td>\n",
       "      <td>2.000000</td>\n",
       "      <td>0.000000</td>\n",
       "      <td>0.000000</td>\n",
       "    </tr>\n",
       "    <tr>\n",
       "      <th>75%</th>\n",
       "      <td>140.000000</td>\n",
       "      <td>8.484919e-04</td>\n",
       "      <td>0.000529</td>\n",
       "      <td>0.000697</td>\n",
       "      <td>0.000516</td>\n",
       "      <td>0.000971</td>\n",
       "      <td>0.000257</td>\n",
       "      <td>0.000143</td>\n",
       "      <td>3.000000</td>\n",
       "      <td>0.000000</td>\n",
       "      <td>0.000000</td>\n",
       "    </tr>\n",
       "    <tr>\n",
       "      <th>max</th>\n",
       "      <td>186.000000</td>\n",
       "      <td>1.000000e+00</td>\n",
       "      <td>1.000000</td>\n",
       "      <td>1.000000</td>\n",
       "      <td>1.000000</td>\n",
       "      <td>1.000000</td>\n",
       "      <td>1.000000</td>\n",
       "      <td>1.000000</td>\n",
       "      <td>5.000000</td>\n",
       "      <td>43.201554</td>\n",
       "      <td>49309.000000</td>\n",
       "    </tr>\n",
       "  </tbody>\n",
       "</table>\n",
       "</div>"
      ],
      "text/plain": [
       "       Country/Region     Confirmed        Deaths     Recovered        Active  \\\n",
       "count    35156.000000  3.515600e+04  35156.000000  35156.000000  35156.000000   \n",
       "mean        93.000000  5.493056e-03      0.008338      0.005983      0.004007   \n",
       "std         53.982246  3.495869e-02      0.050248      0.034953      0.031945   \n",
       "min          0.000000  0.000000e+00      0.000000      0.000000     -0.000001   \n",
       "25%         46.000000  2.330862e-07      0.000000      0.000000      0.000000   \n",
       "50%         93.000000  5.827154e-05      0.000027      0.000018      0.000030   \n",
       "75%        140.000000  8.484919e-04      0.000529      0.000697      0.000516   \n",
       "max        186.000000  1.000000e+00      1.000000      1.000000      1.000000   \n",
       "\n",
       "          New cases    New deaths  New recovered    WHO Region  \\\n",
       "count  35156.000000  35156.000000   35156.000000  35156.000000   \n",
       "mean       0.006076      0.004786       0.001923      1.962567   \n",
       "std        0.038908      0.029768       0.014767      1.579872   \n",
       "min        0.000000     -0.493440      -0.116373      0.000000   \n",
       "25%        0.000000      0.000000       0.000000      0.000000   \n",
       "50%        0.000026      0.000000       0.000000      2.000000   \n",
       "75%        0.000971      0.000257       0.000143      3.000000   \n",
       "max        1.000000      1.000000       1.000000      5.000000   \n",
       "\n",
       "       Motality Ratio  Daily Growth Rates  \n",
       "count    35156.000000        35156.000000  \n",
       "mean        -0.304412           34.305768  \n",
       "std          1.759285          641.560666  \n",
       "min       -114.485833           -1.000000  \n",
       "25%          0.000000           -0.900898  \n",
       "50%          0.000000            0.000000  \n",
       "75%          0.000000            0.000000  \n",
       "max         43.201554        49309.000000  "
      ]
     },
     "execution_count": 192,
     "metadata": {},
     "output_type": "execute_result"
    }
   ],
   "source": [
    "covid_data.describe()"
   ]
  },
  {
   "cell_type": "code",
   "execution_count": 8,
   "id": "ea0d1a46-0fad-4009-ab83-3c7c128655e0",
   "metadata": {},
   "outputs": [
    {
     "data": {
      "text/plain": [
       "0"
      ]
     },
     "execution_count": 8,
     "metadata": {},
     "output_type": "execute_result"
    }
   ],
   "source": [
    "covid_data.duplicated().sum()"
   ]
  },
  {
   "cell_type": "code",
   "execution_count": 9,
   "id": "6e82002f-406b-4609-84a7-5d6dd06fe3b1",
   "metadata": {},
   "outputs": [
    {
     "data": {
      "text/plain": [
       "Date              0\n",
       "Country/Region    0\n",
       "Confirmed         0\n",
       "Deaths            0\n",
       "Recovered         0\n",
       "Active            0\n",
       "New cases         0\n",
       "New deaths        0\n",
       "New recovered     0\n",
       "WHO Region        0\n",
       "dtype: int64"
      ]
     },
     "execution_count": 9,
     "metadata": {},
     "output_type": "execute_result"
    }
   ],
   "source": [
    "covid_data.isnull().sum()"
   ]
  },
  {
   "cell_type": "code",
   "execution_count": 10,
   "id": "9dc87619-42ed-4e80-ac1c-572859fa1634",
   "metadata": {},
   "outputs": [],
   "source": [
    "from datetime import datetime"
   ]
  },
  {
   "cell_type": "code",
   "execution_count": 11,
   "id": "49ab926c-7759-4e3f-a3cc-ed55be1bf964",
   "metadata": {},
   "outputs": [],
   "source": [
    "covid_data['Date'] = pd.to_datetime(covid_data['Date'])"
   ]
  },
  {
   "cell_type": "code",
   "execution_count": 12,
   "id": "53662e12-9570-4ec5-b12c-a2b10a3eccfa",
   "metadata": {},
   "outputs": [
    {
     "data": {
      "text/plain": [
       "0       2020-01-22\n",
       "1       2020-01-22\n",
       "2       2020-01-22\n",
       "3       2020-01-22\n",
       "4       2020-01-22\n",
       "           ...    \n",
       "35151   2020-07-27\n",
       "35152   2020-07-27\n",
       "35153   2020-07-27\n",
       "35154   2020-07-27\n",
       "35155   2020-07-27\n",
       "Name: Date, Length: 35156, dtype: datetime64[ns]"
      ]
     },
     "execution_count": 12,
     "metadata": {},
     "output_type": "execute_result"
    }
   ],
   "source": [
    "covid_data['Date']"
   ]
  },
  {
   "cell_type": "code",
   "execution_count": 13,
   "id": "1816e186-354b-413f-9e0b-c5930c165b8d",
   "metadata": {},
   "outputs": [
    {
     "data": {
      "text/plain": [
       "WHO Region\n",
       "Europe                   10528\n",
       "Africa                    9024\n",
       "Americas                  6580\n",
       "Eastern Mediterranean     4136\n",
       "Western Pacific           3008\n",
       "South-East Asia           1880\n",
       "Name: count, dtype: int64"
      ]
     },
     "execution_count": 13,
     "metadata": {},
     "output_type": "execute_result"
    }
   ],
   "source": [
    "covid_data['WHO Region'].value_counts()"
   ]
  },
  {
   "cell_type": "markdown",
   "id": "00a35367-9984-4411-ae46-9ed88a3effd7",
   "metadata": {},
   "source": [
    "# **Data Normalization**"
   ]
  },
  {
   "cell_type": "code",
   "execution_count": 15,
   "id": "dc128370-458c-4a78-9791-e7d1e9f09845",
   "metadata": {},
   "outputs": [],
   "source": [
    "covid_data['Country/Region'] = covid_data['Country/Region'].apply(lambda x: x.strip()) "
   ]
  },
  {
   "cell_type": "code",
   "execution_count": 16,
   "id": "f721e67d-1fee-4d70-ac18-b01e240cb95c",
   "metadata": {},
   "outputs": [],
   "source": [
    "covid_data['WHO Region'] = covid_data['WHO Region'].apply(lambda x: x.strip()) "
   ]
  },
  {
   "cell_type": "code",
   "execution_count": 17,
   "id": "ec29a007-4bf9-456b-a2f6-f48cec1ca47e",
   "metadata": {},
   "outputs": [],
   "source": [
    "covid_data['Confirmed'] = covid_data['Confirmed']/covid_data['Confirmed'].max()"
   ]
  },
  {
   "cell_type": "code",
   "execution_count": 18,
   "id": "75bc5c4a-c390-4510-a2f5-0f0d610adbc3",
   "metadata": {},
   "outputs": [],
   "source": [
    "covid_data['Deaths'] = covid_data['Deaths']/covid_data['Deaths'].max()"
   ]
  },
  {
   "cell_type": "code",
   "execution_count": 19,
   "id": "4017a4e0-6b8d-4b7f-b88b-314f6a188c8b",
   "metadata": {},
   "outputs": [],
   "source": [
    "covid_data['Recovered'] = covid_data['Recovered']/covid_data['Recovered'].max()"
   ]
  },
  {
   "cell_type": "code",
   "execution_count": 20,
   "id": "85487205-eb31-4faf-a9ea-ca0c72eeac62",
   "metadata": {},
   "outputs": [],
   "source": [
    "covid_data['Active'] = covid_data['Active']/covid_data['Active'].max()"
   ]
  },
  {
   "cell_type": "code",
   "execution_count": 21,
   "id": "c595099b-c83e-4836-8d2e-6eb4360c0b32",
   "metadata": {},
   "outputs": [],
   "source": [
    "covid_data['New cases'] = covid_data['New cases']/covid_data['New cases'].max()"
   ]
  },
  {
   "cell_type": "code",
   "execution_count": 22,
   "id": "818a10ea-4508-490e-a925-a5d8b6f6f13f",
   "metadata": {},
   "outputs": [],
   "source": [
    "covid_data['New deaths'] = covid_data['New deaths']/covid_data['New deaths'].max() "
   ]
  },
  {
   "cell_type": "code",
   "execution_count": 23,
   "id": "b0ac340b-7226-46d9-b012-c3d285dd8218",
   "metadata": {},
   "outputs": [],
   "source": [
    "covid_data['New recovered'] = covid_data['New recovered']/covid_data['New recovered'].max()"
   ]
  },
  {
   "cell_type": "code",
   "execution_count": 24,
   "id": "52ac7b52-c571-4b81-8be3-01fed42873a9",
   "metadata": {},
   "outputs": [],
   "source": [
    "covid_data['Active'] = covid_data['Active'].round(6) "
   ]
  },
  {
   "cell_type": "code",
   "execution_count": 25,
   "id": "34e0290a-463f-4b61-998f-23e4b2783f37",
   "metadata": {},
   "outputs": [
    {
     "data": {
      "text/html": [
       "<div>\n",
       "<style scoped>\n",
       "    .dataframe tbody tr th:only-of-type {\n",
       "        vertical-align: middle;\n",
       "    }\n",
       "\n",
       "    .dataframe tbody tr th {\n",
       "        vertical-align: top;\n",
       "    }\n",
       "\n",
       "    .dataframe thead th {\n",
       "        text-align: right;\n",
       "    }\n",
       "</style>\n",
       "<table border=\"1\" class=\"dataframe\">\n",
       "  <thead>\n",
       "    <tr style=\"text-align: right;\">\n",
       "      <th></th>\n",
       "      <th>Date</th>\n",
       "      <th>Country/Region</th>\n",
       "      <th>Confirmed</th>\n",
       "      <th>Deaths</th>\n",
       "      <th>Recovered</th>\n",
       "      <th>Active</th>\n",
       "      <th>New cases</th>\n",
       "      <th>New deaths</th>\n",
       "      <th>New recovered</th>\n",
       "      <th>WHO Region</th>\n",
       "    </tr>\n",
       "  </thead>\n",
       "  <tbody>\n",
       "    <tr>\n",
       "      <th>0</th>\n",
       "      <td>2020-01-22</td>\n",
       "      <td>Afghanistan</td>\n",
       "      <td>0.000000</td>\n",
       "      <td>0.000000</td>\n",
       "      <td>0.000000</td>\n",
       "      <td>0.000000</td>\n",
       "      <td>0.000000</td>\n",
       "      <td>0.000000</td>\n",
       "      <td>0.000000</td>\n",
       "      <td>Eastern Mediterranean</td>\n",
       "    </tr>\n",
       "    <tr>\n",
       "      <th>1</th>\n",
       "      <td>2020-01-22</td>\n",
       "      <td>Albania</td>\n",
       "      <td>0.000000</td>\n",
       "      <td>0.000000</td>\n",
       "      <td>0.000000</td>\n",
       "      <td>0.000000</td>\n",
       "      <td>0.000000</td>\n",
       "      <td>0.000000</td>\n",
       "      <td>0.000000</td>\n",
       "      <td>Europe</td>\n",
       "    </tr>\n",
       "    <tr>\n",
       "      <th>2</th>\n",
       "      <td>2020-01-22</td>\n",
       "      <td>Algeria</td>\n",
       "      <td>0.000000</td>\n",
       "      <td>0.000000</td>\n",
       "      <td>0.000000</td>\n",
       "      <td>0.000000</td>\n",
       "      <td>0.000000</td>\n",
       "      <td>0.000000</td>\n",
       "      <td>0.000000</td>\n",
       "      <td>Africa</td>\n",
       "    </tr>\n",
       "    <tr>\n",
       "      <th>3</th>\n",
       "      <td>2020-01-22</td>\n",
       "      <td>Andorra</td>\n",
       "      <td>0.000000</td>\n",
       "      <td>0.000000</td>\n",
       "      <td>0.000000</td>\n",
       "      <td>0.000000</td>\n",
       "      <td>0.000000</td>\n",
       "      <td>0.000000</td>\n",
       "      <td>0.000000</td>\n",
       "      <td>Europe</td>\n",
       "    </tr>\n",
       "    <tr>\n",
       "      <th>4</th>\n",
       "      <td>2020-01-22</td>\n",
       "      <td>Angola</td>\n",
       "      <td>0.000000</td>\n",
       "      <td>0.000000</td>\n",
       "      <td>0.000000</td>\n",
       "      <td>0.000000</td>\n",
       "      <td>0.000000</td>\n",
       "      <td>0.000000</td>\n",
       "      <td>0.000000</td>\n",
       "      <td>Africa</td>\n",
       "    </tr>\n",
       "    <tr>\n",
       "      <th>...</th>\n",
       "      <td>...</td>\n",
       "      <td>...</td>\n",
       "      <td>...</td>\n",
       "      <td>...</td>\n",
       "      <td>...</td>\n",
       "      <td>...</td>\n",
       "      <td>...</td>\n",
       "      <td>...</td>\n",
       "      <td>...</td>\n",
       "      <td>...</td>\n",
       "    </tr>\n",
       "    <tr>\n",
       "      <th>35151</th>\n",
       "      <td>2020-07-27</td>\n",
       "      <td>West Bank and Gaza</td>\n",
       "      <td>0.002476</td>\n",
       "      <td>0.000527</td>\n",
       "      <td>0.002032</td>\n",
       "      <td>0.002411</td>\n",
       "      <td>0.001968</td>\n",
       "      <td>0.000515</td>\n",
       "      <td>0.000000</td>\n",
       "      <td>Eastern Mediterranean</td>\n",
       "    </tr>\n",
       "    <tr>\n",
       "      <th>35152</th>\n",
       "      <td>2020-07-27</td>\n",
       "      <td>Western Sahara</td>\n",
       "      <td>0.000002</td>\n",
       "      <td>0.000007</td>\n",
       "      <td>0.000004</td>\n",
       "      <td>0.000000</td>\n",
       "      <td>0.000000</td>\n",
       "      <td>0.000000</td>\n",
       "      <td>0.000000</td>\n",
       "      <td>Africa</td>\n",
       "    </tr>\n",
       "    <tr>\n",
       "      <th>35153</th>\n",
       "      <td>2020-07-27</td>\n",
       "      <td>Yemen</td>\n",
       "      <td>0.000394</td>\n",
       "      <td>0.003263</td>\n",
       "      <td>0.000451</td>\n",
       "      <td>0.000133</td>\n",
       "      <td>0.000129</td>\n",
       "      <td>0.001029</td>\n",
       "      <td>0.000257</td>\n",
       "      <td>Eastern Mediterranean</td>\n",
       "    </tr>\n",
       "    <tr>\n",
       "      <th>35154</th>\n",
       "      <td>2020-07-27</td>\n",
       "      <td>Zambia</td>\n",
       "      <td>0.001061</td>\n",
       "      <td>0.000946</td>\n",
       "      <td>0.001524</td>\n",
       "      <td>0.000567</td>\n",
       "      <td>0.000919</td>\n",
       "      <td>0.000257</td>\n",
       "      <td>0.003320</td>\n",
       "      <td>Africa</td>\n",
       "    </tr>\n",
       "    <tr>\n",
       "      <th>35155</th>\n",
       "      <td>2020-07-27</td>\n",
       "      <td>Zimbabwe</td>\n",
       "      <td>0.000630</td>\n",
       "      <td>0.000243</td>\n",
       "      <td>0.000294</td>\n",
       "      <td>0.000755</td>\n",
       "      <td>0.002485</td>\n",
       "      <td>0.000515</td>\n",
       "      <td>0.000171</td>\n",
       "      <td>Africa</td>\n",
       "    </tr>\n",
       "  </tbody>\n",
       "</table>\n",
       "<p>35156 rows × 10 columns</p>\n",
       "</div>"
      ],
      "text/plain": [
       "            Date      Country/Region  Confirmed    Deaths  Recovered  \\\n",
       "0     2020-01-22         Afghanistan   0.000000  0.000000   0.000000   \n",
       "1     2020-01-22             Albania   0.000000  0.000000   0.000000   \n",
       "2     2020-01-22             Algeria   0.000000  0.000000   0.000000   \n",
       "3     2020-01-22             Andorra   0.000000  0.000000   0.000000   \n",
       "4     2020-01-22              Angola   0.000000  0.000000   0.000000   \n",
       "...          ...                 ...        ...       ...        ...   \n",
       "35151 2020-07-27  West Bank and Gaza   0.002476  0.000527   0.002032   \n",
       "35152 2020-07-27      Western Sahara   0.000002  0.000007   0.000004   \n",
       "35153 2020-07-27               Yemen   0.000394  0.003263   0.000451   \n",
       "35154 2020-07-27              Zambia   0.001061  0.000946   0.001524   \n",
       "35155 2020-07-27            Zimbabwe   0.000630  0.000243   0.000294   \n",
       "\n",
       "         Active  New cases  New deaths  New recovered             WHO Region  \n",
       "0      0.000000   0.000000    0.000000       0.000000  Eastern Mediterranean  \n",
       "1      0.000000   0.000000    0.000000       0.000000                 Europe  \n",
       "2      0.000000   0.000000    0.000000       0.000000                 Africa  \n",
       "3      0.000000   0.000000    0.000000       0.000000                 Europe  \n",
       "4      0.000000   0.000000    0.000000       0.000000                 Africa  \n",
       "...         ...        ...         ...            ...                    ...  \n",
       "35151  0.002411   0.001968    0.000515       0.000000  Eastern Mediterranean  \n",
       "35152  0.000000   0.000000    0.000000       0.000000                 Africa  \n",
       "35153  0.000133   0.000129    0.001029       0.000257  Eastern Mediterranean  \n",
       "35154  0.000567   0.000919    0.000257       0.003320                 Africa  \n",
       "35155  0.000755   0.002485    0.000515       0.000171                 Africa  \n",
       "\n",
       "[35156 rows x 10 columns]"
      ]
     },
     "execution_count": 25,
     "metadata": {},
     "output_type": "execute_result"
    }
   ],
   "source": [
    "covid_data"
   ]
  },
  {
   "cell_type": "code",
   "execution_count": 26,
   "id": "9c3f5931-950d-4e9d-8e43-f3749ccced20",
   "metadata": {},
   "outputs": [
    {
     "data": {
      "text/plain": [
       "Text(0, 0.5, 'Count')"
      ]
     },
     "execution_count": 26,
     "metadata": {},
     "output_type": "execute_result"
    },
    {
     "data": {
      "image/png": "[encoded data removed]",
      "text/plain": [
       "<Figure size 640x480 with 1 Axes>"
      ]
     },
     "metadata": {},
     "output_type": "display_data"
    }
   ],
   "source": [
    "covid_data['WHO Region'].value_counts().plot(kind='bar', color = 'red', title = 'WHO Region Frequency').set_ylabel('Count')"
   ]
  },
  {
   "cell_type": "code",
   "execution_count": 27,
   "id": "a4b36d35-7883-44d5-b0c0-a71496c618e4",
   "metadata": {},
   "outputs": [],
   "source": [
    "from sklearn.preprocessing import LabelEncoder"
   ]
  },
  {
   "cell_type": "code",
   "execution_count": 28,
   "id": "0913888c-ae2a-424c-b69f-1363a2a49167",
   "metadata": {},
   "outputs": [],
   "source": [
    "le = LabelEncoder()"
   ]
  },
  {
   "cell_type": "code",
   "execution_count": 29,
   "id": "a99b8b77-5225-4596-abf0-2492ab2aca72",
   "metadata": {},
   "outputs": [],
   "source": [
    "covid_data['Country/Region'] = le.fit_transform(covid_data['Country/Region'])"
   ]
  },
  {
   "cell_type": "code",
   "execution_count": 30,
   "id": "81303310-d689-4fc0-b9a0-e732f21a4541",
   "metadata": {},
   "outputs": [],
   "source": [
    "covid_data['WHO Region'] = le.fit_transform(covid_data['WHO Region'])"
   ]
  },
  {
   "cell_type": "code",
   "execution_count": 31,
   "id": "e39467b5-e1ac-4b85-9e01-17c2d53e8e70",
   "metadata": {},
   "outputs": [
    {
     "data": {
      "text/html": [
       "<div>\n",
       "<style scoped>\n",
       "    .dataframe tbody tr th:only-of-type {\n",
       "        vertical-align: middle;\n",
       "    }\n",
       "\n",
       "    .dataframe tbody tr th {\n",
       "        vertical-align: top;\n",
       "    }\n",
       "\n",
       "    .dataframe thead th {\n",
       "        text-align: right;\n",
       "    }\n",
       "</style>\n",
       "<table border=\"1\" class=\"dataframe\">\n",
       "  <thead>\n",
       "    <tr style=\"text-align: right;\">\n",
       "      <th></th>\n",
       "      <th>Date</th>\n",
       "      <th>Country/Region</th>\n",
       "      <th>Confirmed</th>\n",
       "      <th>Deaths</th>\n",
       "      <th>Recovered</th>\n",
       "      <th>Active</th>\n",
       "      <th>New cases</th>\n",
       "      <th>New deaths</th>\n",
       "      <th>New recovered</th>\n",
       "      <th>WHO Region</th>\n",
       "    </tr>\n",
       "  </thead>\n",
       "  <tbody>\n",
       "    <tr>\n",
       "      <th>0</th>\n",
       "      <td>2020-01-22</td>\n",
       "      <td>0</td>\n",
       "      <td>0.000000</td>\n",
       "      <td>0.000000</td>\n",
       "      <td>0.000000</td>\n",
       "      <td>0.000000</td>\n",
       "      <td>0.000000</td>\n",
       "      <td>0.000000</td>\n",
       "      <td>0.000000</td>\n",
       "      <td>2</td>\n",
       "    </tr>\n",
       "    <tr>\n",
       "      <th>1</th>\n",
       "      <td>2020-01-22</td>\n",
       "      <td>1</td>\n",
       "      <td>0.000000</td>\n",
       "      <td>0.000000</td>\n",
       "      <td>0.000000</td>\n",
       "      <td>0.000000</td>\n",
       "      <td>0.000000</td>\n",
       "      <td>0.000000</td>\n",
       "      <td>0.000000</td>\n",
       "      <td>3</td>\n",
       "    </tr>\n",
       "    <tr>\n",
       "      <th>2</th>\n",
       "      <td>2020-01-22</td>\n",
       "      <td>2</td>\n",
       "      <td>0.000000</td>\n",
       "      <td>0.000000</td>\n",
       "      <td>0.000000</td>\n",
       "      <td>0.000000</td>\n",
       "      <td>0.000000</td>\n",
       "      <td>0.000000</td>\n",
       "      <td>0.000000</td>\n",
       "      <td>0</td>\n",
       "    </tr>\n",
       "    <tr>\n",
       "      <th>3</th>\n",
       "      <td>2020-01-22</td>\n",
       "      <td>3</td>\n",
       "      <td>0.000000</td>\n",
       "      <td>0.000000</td>\n",
       "      <td>0.000000</td>\n",
       "      <td>0.000000</td>\n",
       "      <td>0.000000</td>\n",
       "      <td>0.000000</td>\n",
       "      <td>0.000000</td>\n",
       "      <td>3</td>\n",
       "    </tr>\n",
       "    <tr>\n",
       "      <th>4</th>\n",
       "      <td>2020-01-22</td>\n",
       "      <td>4</td>\n",
       "      <td>0.000000</td>\n",
       "      <td>0.000000</td>\n",
       "      <td>0.000000</td>\n",
       "      <td>0.000000</td>\n",
       "      <td>0.000000</td>\n",
       "      <td>0.000000</td>\n",
       "      <td>0.000000</td>\n",
       "      <td>0</td>\n",
       "    </tr>\n",
       "    <tr>\n",
       "      <th>...</th>\n",
       "      <td>...</td>\n",
       "      <td>...</td>\n",
       "      <td>...</td>\n",
       "      <td>...</td>\n",
       "      <td>...</td>\n",
       "      <td>...</td>\n",
       "      <td>...</td>\n",
       "      <td>...</td>\n",
       "      <td>...</td>\n",
       "      <td>...</td>\n",
       "    </tr>\n",
       "    <tr>\n",
       "      <th>35151</th>\n",
       "      <td>2020-07-27</td>\n",
       "      <td>182</td>\n",
       "      <td>0.002476</td>\n",
       "      <td>0.000527</td>\n",
       "      <td>0.002032</td>\n",
       "      <td>0.002411</td>\n",
       "      <td>0.001968</td>\n",
       "      <td>0.000515</td>\n",
       "      <td>0.000000</td>\n",
       "      <td>2</td>\n",
       "    </tr>\n",
       "    <tr>\n",
       "      <th>35152</th>\n",
       "      <td>2020-07-27</td>\n",
       "      <td>183</td>\n",
       "      <td>0.000002</td>\n",
       "      <td>0.000007</td>\n",
       "      <td>0.000004</td>\n",
       "      <td>0.000000</td>\n",
       "      <td>0.000000</td>\n",
       "      <td>0.000000</td>\n",
       "      <td>0.000000</td>\n",
       "      <td>0</td>\n",
       "    </tr>\n",
       "    <tr>\n",
       "      <th>35153</th>\n",
       "      <td>2020-07-27</td>\n",
       "      <td>184</td>\n",
       "      <td>0.000394</td>\n",
       "      <td>0.003263</td>\n",
       "      <td>0.000451</td>\n",
       "      <td>0.000133</td>\n",
       "      <td>0.000129</td>\n",
       "      <td>0.001029</td>\n",
       "      <td>0.000257</td>\n",
       "      <td>2</td>\n",
       "    </tr>\n",
       "    <tr>\n",
       "      <th>35154</th>\n",
       "      <td>2020-07-27</td>\n",
       "      <td>185</td>\n",
       "      <td>0.001061</td>\n",
       "      <td>0.000946</td>\n",
       "      <td>0.001524</td>\n",
       "      <td>0.000567</td>\n",
       "      <td>0.000919</td>\n",
       "      <td>0.000257</td>\n",
       "      <td>0.003320</td>\n",
       "      <td>0</td>\n",
       "    </tr>\n",
       "    <tr>\n",
       "      <th>35155</th>\n",
       "      <td>2020-07-27</td>\n",
       "      <td>186</td>\n",
       "      <td>0.000630</td>\n",
       "      <td>0.000243</td>\n",
       "      <td>0.000294</td>\n",
       "      <td>0.000755</td>\n",
       "      <td>0.002485</td>\n",
       "      <td>0.000515</td>\n",
       "      <td>0.000171</td>\n",
       "      <td>0</td>\n",
       "    </tr>\n",
       "  </tbody>\n",
       "</table>\n",
       "<p>35156 rows × 10 columns</p>\n",
       "</div>"
      ],
      "text/plain": [
       "            Date  Country/Region  Confirmed    Deaths  Recovered    Active  \\\n",
       "0     2020-01-22               0   0.000000  0.000000   0.000000  0.000000   \n",
       "1     2020-01-22               1   0.000000  0.000000   0.000000  0.000000   \n",
       "2     2020-01-22               2   0.000000  0.000000   0.000000  0.000000   \n",
       "3     2020-01-22               3   0.000000  0.000000   0.000000  0.000000   \n",
       "4     2020-01-22               4   0.000000  0.000000   0.000000  0.000000   \n",
       "...          ...             ...        ...       ...        ...       ...   \n",
       "35151 2020-07-27             182   0.002476  0.000527   0.002032  0.002411   \n",
       "35152 2020-07-27             183   0.000002  0.000007   0.000004  0.000000   \n",
       "35153 2020-07-27             184   0.000394  0.003263   0.000451  0.000133   \n",
       "35154 2020-07-27             185   0.001061  0.000946   0.001524  0.000567   \n",
       "35155 2020-07-27             186   0.000630  0.000243   0.000294  0.000755   \n",
       "\n",
       "       New cases  New deaths  New recovered  WHO Region  \n",
       "0       0.000000    0.000000       0.000000           2  \n",
       "1       0.000000    0.000000       0.000000           3  \n",
       "2       0.000000    0.000000       0.000000           0  \n",
       "3       0.000000    0.000000       0.000000           3  \n",
       "4       0.000000    0.000000       0.000000           0  \n",
       "...          ...         ...            ...         ...  \n",
       "35151   0.001968    0.000515       0.000000           2  \n",
       "35152   0.000000    0.000000       0.000000           0  \n",
       "35153   0.000129    0.001029       0.000257           2  \n",
       "35154   0.000919    0.000257       0.003320           0  \n",
       "35155   0.002485    0.000515       0.000171           0  \n",
       "\n",
       "[35156 rows x 10 columns]"
      ]
     },
     "execution_count": 31,
     "metadata": {},
     "output_type": "execute_result"
    }
   ],
   "source": [
    "covid_data"
   ]
  },
  {
   "cell_type": "markdown",
   "id": "10861d04-5c1a-4c49-b68b-2b8e9cf29e60",
   "metadata": {},
   "source": [
    "# **Feature Engineering**"
   ]
  },
  {
   "cell_type": "code",
   "execution_count": 33,
   "id": "763a63a6-dc5f-4fb2-83d6-f430d4c7a355",
   "metadata": {},
   "outputs": [],
   "source": [
    "covid_data['Motality Ratio'] = covid_data['New cases']-covid_data['New recovered']/covid_data['New deaths']"
   ]
  },
  {
   "cell_type": "code",
   "execution_count": 34,
   "id": "64ff3298-e1c7-49b3-8c52-3e30442ce5ee",
   "metadata": {},
   "outputs": [
    {
     "data": {
      "text/html": [
       "<div>\n",
       "<style scoped>\n",
       "    .dataframe tbody tr th:only-of-type {\n",
       "        vertical-align: middle;\n",
       "    }\n",
       "\n",
       "    .dataframe tbody tr th {\n",
       "        vertical-align: top;\n",
       "    }\n",
       "\n",
       "    .dataframe thead th {\n",
       "        text-align: right;\n",
       "    }\n",
       "</style>\n",
       "<table border=\"1\" class=\"dataframe\">\n",
       "  <thead>\n",
       "    <tr style=\"text-align: right;\">\n",
       "      <th></th>\n",
       "      <th>Date</th>\n",
       "      <th>Country/Region</th>\n",
       "      <th>Confirmed</th>\n",
       "      <th>Deaths</th>\n",
       "      <th>Recovered</th>\n",
       "      <th>Active</th>\n",
       "      <th>New cases</th>\n",
       "      <th>New deaths</th>\n",
       "      <th>New recovered</th>\n",
       "      <th>WHO Region</th>\n",
       "      <th>Motality Ratio</th>\n",
       "    </tr>\n",
       "  </thead>\n",
       "  <tbody>\n",
       "    <tr>\n",
       "      <th>0</th>\n",
       "      <td>2020-01-22</td>\n",
       "      <td>0</td>\n",
       "      <td>0.000000</td>\n",
       "      <td>0.000000</td>\n",
       "      <td>0.000000</td>\n",
       "      <td>0.000000</td>\n",
       "      <td>0.000000</td>\n",
       "      <td>0.000000</td>\n",
       "      <td>0.000000</td>\n",
       "      <td>2</td>\n",
       "      <td>NaN</td>\n",
       "    </tr>\n",
       "    <tr>\n",
       "      <th>1</th>\n",
       "      <td>2020-01-22</td>\n",
       "      <td>1</td>\n",
       "      <td>0.000000</td>\n",
       "      <td>0.000000</td>\n",
       "      <td>0.000000</td>\n",
       "      <td>0.000000</td>\n",
       "      <td>0.000000</td>\n",
       "      <td>0.000000</td>\n",
       "      <td>0.000000</td>\n",
       "      <td>3</td>\n",
       "      <td>NaN</td>\n",
       "    </tr>\n",
       "    <tr>\n",
       "      <th>2</th>\n",
       "      <td>2020-01-22</td>\n",
       "      <td>2</td>\n",
       "      <td>0.000000</td>\n",
       "      <td>0.000000</td>\n",
       "      <td>0.000000</td>\n",
       "      <td>0.000000</td>\n",
       "      <td>0.000000</td>\n",
       "      <td>0.000000</td>\n",
       "      <td>0.000000</td>\n",
       "      <td>0</td>\n",
       "      <td>NaN</td>\n",
       "    </tr>\n",
       "    <tr>\n",
       "      <th>3</th>\n",
       "      <td>2020-01-22</td>\n",
       "      <td>3</td>\n",
       "      <td>0.000000</td>\n",
       "      <td>0.000000</td>\n",
       "      <td>0.000000</td>\n",
       "      <td>0.000000</td>\n",
       "      <td>0.000000</td>\n",
       "      <td>0.000000</td>\n",
       "      <td>0.000000</td>\n",
       "      <td>3</td>\n",
       "      <td>NaN</td>\n",
       "    </tr>\n",
       "    <tr>\n",
       "      <th>4</th>\n",
       "      <td>2020-01-22</td>\n",
       "      <td>4</td>\n",
       "      <td>0.000000</td>\n",
       "      <td>0.000000</td>\n",
       "      <td>0.000000</td>\n",
       "      <td>0.000000</td>\n",
       "      <td>0.000000</td>\n",
       "      <td>0.000000</td>\n",
       "      <td>0.000000</td>\n",
       "      <td>0</td>\n",
       "      <td>NaN</td>\n",
       "    </tr>\n",
       "    <tr>\n",
       "      <th>...</th>\n",
       "      <td>...</td>\n",
       "      <td>...</td>\n",
       "      <td>...</td>\n",
       "      <td>...</td>\n",
       "      <td>...</td>\n",
       "      <td>...</td>\n",
       "      <td>...</td>\n",
       "      <td>...</td>\n",
       "      <td>...</td>\n",
       "      <td>...</td>\n",
       "      <td>...</td>\n",
       "    </tr>\n",
       "    <tr>\n",
       "      <th>35151</th>\n",
       "      <td>2020-07-27</td>\n",
       "      <td>182</td>\n",
       "      <td>0.002476</td>\n",
       "      <td>0.000527</td>\n",
       "      <td>0.002032</td>\n",
       "      <td>0.002411</td>\n",
       "      <td>0.001968</td>\n",
       "      <td>0.000515</td>\n",
       "      <td>0.000000</td>\n",
       "      <td>2</td>\n",
       "      <td>0.001968</td>\n",
       "    </tr>\n",
       "    <tr>\n",
       "      <th>35152</th>\n",
       "      <td>2020-07-27</td>\n",
       "      <td>183</td>\n",
       "      <td>0.000002</td>\n",
       "      <td>0.000007</td>\n",
       "      <td>0.000004</td>\n",
       "      <td>0.000000</td>\n",
       "      <td>0.000000</td>\n",
       "      <td>0.000000</td>\n",
       "      <td>0.000000</td>\n",
       "      <td>0</td>\n",
       "      <td>NaN</td>\n",
       "    </tr>\n",
       "    <tr>\n",
       "      <th>35153</th>\n",
       "      <td>2020-07-27</td>\n",
       "      <td>184</td>\n",
       "      <td>0.000394</td>\n",
       "      <td>0.003263</td>\n",
       "      <td>0.000451</td>\n",
       "      <td>0.000133</td>\n",
       "      <td>0.000129</td>\n",
       "      <td>0.001029</td>\n",
       "      <td>0.000257</td>\n",
       "      <td>2</td>\n",
       "      <td>-0.249660</td>\n",
       "    </tr>\n",
       "    <tr>\n",
       "      <th>35154</th>\n",
       "      <td>2020-07-27</td>\n",
       "      <td>185</td>\n",
       "      <td>0.001061</td>\n",
       "      <td>0.000946</td>\n",
       "      <td>0.001524</td>\n",
       "      <td>0.000567</td>\n",
       "      <td>0.000919</td>\n",
       "      <td>0.000257</td>\n",
       "      <td>0.003320</td>\n",
       "      <td>0</td>\n",
       "      <td>-12.904865</td>\n",
       "    </tr>\n",
       "    <tr>\n",
       "      <th>35155</th>\n",
       "      <td>2020-07-27</td>\n",
       "      <td>186</td>\n",
       "      <td>0.000630</td>\n",
       "      <td>0.000243</td>\n",
       "      <td>0.000294</td>\n",
       "      <td>0.000755</td>\n",
       "      <td>0.002485</td>\n",
       "      <td>0.000515</td>\n",
       "      <td>0.000171</td>\n",
       "      <td>0</td>\n",
       "      <td>-0.330567</td>\n",
       "    </tr>\n",
       "  </tbody>\n",
       "</table>\n",
       "<p>35156 rows × 11 columns</p>\n",
       "</div>"
      ],
      "text/plain": [
       "            Date  Country/Region  Confirmed    Deaths  Recovered    Active  \\\n",
       "0     2020-01-22               0   0.000000  0.000000   0.000000  0.000000   \n",
       "1     2020-01-22               1   0.000000  0.000000   0.000000  0.000000   \n",
       "2     2020-01-22               2   0.000000  0.000000   0.000000  0.000000   \n",
       "3     2020-01-22               3   0.000000  0.000000   0.000000  0.000000   \n",
       "4     2020-01-22               4   0.000000  0.000000   0.000000  0.000000   \n",
       "...          ...             ...        ...       ...        ...       ...   \n",
       "35151 2020-07-27             182   0.002476  0.000527   0.002032  0.002411   \n",
       "35152 2020-07-27             183   0.000002  0.000007   0.000004  0.000000   \n",
       "35153 2020-07-27             184   0.000394  0.003263   0.000451  0.000133   \n",
       "35154 2020-07-27             185   0.001061  0.000946   0.001524  0.000567   \n",
       "35155 2020-07-27             186   0.000630  0.000243   0.000294  0.000755   \n",
       "\n",
       "       New cases  New deaths  New recovered  WHO Region  Motality Ratio  \n",
       "0       0.000000    0.000000       0.000000           2             NaN  \n",
       "1       0.000000    0.000000       0.000000           3             NaN  \n",
       "2       0.000000    0.000000       0.000000           0             NaN  \n",
       "3       0.000000    0.000000       0.000000           3             NaN  \n",
       "4       0.000000    0.000000       0.000000           0             NaN  \n",
       "...          ...         ...            ...         ...             ...  \n",
       "35151   0.001968    0.000515       0.000000           2        0.001968  \n",
       "35152   0.000000    0.000000       0.000000           0             NaN  \n",
       "35153   0.000129    0.001029       0.000257           2       -0.249660  \n",
       "35154   0.000919    0.000257       0.003320           0      -12.904865  \n",
       "35155   0.002485    0.000515       0.000171           0       -0.330567  \n",
       "\n",
       "[35156 rows x 11 columns]"
      ]
     },
     "execution_count": 34,
     "metadata": {},
     "output_type": "execute_result"
    }
   ],
   "source": [
    "covid_data"
   ]
  },
  {
   "cell_type": "code",
   "execution_count": 35,
   "id": "0468d800-4a4e-4bc1-a6ee-2a2051a02444",
   "metadata": {},
   "outputs": [],
   "source": [
    "covid_data['Motality Ratio'] = covid_data['Motality Ratio'].fillna(0) "
   ]
  },
  {
   "cell_type": "code",
   "execution_count": 36,
   "id": "47942d63-3402-4a03-a18a-69020afc6f9b",
   "metadata": {},
   "outputs": [],
   "source": [
    "import numpy as np\n",
    "covid_data['Motality Ratio'] = covid_data['Motality Ratio'].replace([np.inf, -np.inf],0)"
   ]
  },
  {
   "cell_type": "code",
   "execution_count": 37,
   "id": "81aecf75-e9b5-4be0-93e5-4277b5aa484e",
   "metadata": {},
   "outputs": [],
   "source": [
    "covid_data['Daily Growth Rates'] = covid_data['New cases'].pct_change()"
   ]
  },
  {
   "cell_type": "code",
   "execution_count": 38,
   "id": "fca01a5d-6d91-41bf-97e8-70cfb3e84f6a",
   "metadata": {},
   "outputs": [],
   "source": [
    "covid_data['Daily Growth Rates'] = covid_data['Daily Growth Rates'].fillna(0) \n",
    "covid_data['Daily Growth Rates'] = covid_data['Daily Growth Rates'].replace([np.inf, -np.inf],0)"
   ]
  },
  {
   "cell_type": "markdown",
   "id": "9eda5f53-9e44-49db-b632-08f21380b049",
   "metadata": {},
   "source": [
    "# **Exploratory Data Analysis**"
   ]
  },
  {
   "cell_type": "markdown",
   "id": "01f41661-83ab-4ff2-981a-b254b2038cab",
   "metadata": {},
   "source": [
    "# Note: Europe = 3, Africa = 0, America = 1, Eastern Meditterranean = 2, Western Pacific = 5, Sount-east Asia = 4 "
   ]
  },
  {
   "cell_type": "code",
   "execution_count": 41,
   "id": "ab248f04-33a0-4816-afbf-1178cb508388",
   "metadata": {},
   "outputs": [
    {
     "data": {
      "text/plain": [
       "Text(0, 0.5, 'Count')"
      ]
     },
     "execution_count": 41,
     "metadata": {},
     "output_type": "execute_result"
    },
    {
     "data": {
      "image/png": "[encoded data removed]",
      "text/plain": [
       "<Figure size 640x480 with 1 Axes>"
      ]
     },
     "metadata": {},
     "output_type": "display_data"
    }
   ],
   "source": [
    "covid_data['WHO Region'].value_counts().plot(kind='bar', color = 'green', title = 'WHO Region Frequency').set_ylabel('Count')"
   ]
  },
  {
   "cell_type": "markdown",
   "id": "2e7a57bc-ee91-41a4-8f07-37c52697e36f",
   "metadata": {},
   "source": [
    "# Scatter plot to uncover trends in the data set"
   ]
  },
  {
   "cell_type": "code",
   "execution_count": 43,
   "id": "aa1fce5c-7559-46c1-a6eb-2ef703f19a66",
   "metadata": {},
   "outputs": [
    {
     "name": "stdout",
     "output_type": "stream",
     "text": [
      "<class 'pandas.core.frame.DataFrame'>\n",
      "RangeIndex: 35156 entries, 0 to 35155\n",
      "Data columns (total 12 columns):\n",
      " #   Column              Non-Null Count  Dtype         \n",
      "---  ------              --------------  -----         \n",
      " 0   Date                35156 non-null  datetime64[ns]\n",
      " 1   Country/Region      35156 non-null  int32         \n",
      " 2   Confirmed           35156 non-null  float64       \n",
      " 3   Deaths              35156 non-null  float64       \n",
      " 4   Recovered           35156 non-null  float64       \n",
      " 5   Active              35156 non-null  float64       \n",
      " 6   New cases           35156 non-null  float64       \n",
      " 7   New deaths          35156 non-null  float64       \n",
      " 8   New recovered       35156 non-null  float64       \n",
      " 9   WHO Region          35156 non-null  int32         \n",
      " 10  Motality Ratio      35156 non-null  float64       \n",
      " 11  Daily Growth Rates  35156 non-null  float64       \n",
      "dtypes: datetime64[ns](1), float64(9), int32(2)\n",
      "memory usage: 3.0 MB\n"
     ]
    }
   ],
   "source": [
    "covid_data.info()"
   ]
  },
  {
   "cell_type": "code",
   "execution_count": 44,
   "id": "31afed58-fae0-41fa-9062-86a7508f8125",
   "metadata": {},
   "outputs": [
    {
     "data": {
      "text/plain": [
       "Motality Ratio\n",
       " 0.000000    24261\n",
       " 0.000013       45\n",
       " 0.000052       40\n",
       " 0.000026       38\n",
       " 0.000039       35\n",
       "             ...  \n",
       "-2.793860        1\n",
       "-0.635531        1\n",
       "-0.406616        1\n",
       "-0.308807        1\n",
       "-0.330567        1\n",
       "Name: count, Length: 9211, dtype: int64"
      ]
     },
     "execution_count": 44,
     "metadata": {},
     "output_type": "execute_result"
    }
   ],
   "source": [
    "covid_data['Motality Ratio'].value_counts()"
   ]
  },
  {
   "cell_type": "code",
   "execution_count": 45,
   "id": "0a4776eb-c2f3-407c-b39f-7f7db8237e80",
   "metadata": {},
   "outputs": [
    {
     "data": {
      "image/png": "[encoded data removed]",
      "text/plain": [
       "<Figure size 640x480 with 1 Axes>"
      ]
     },
     "metadata": {},
     "output_type": "display_data"
    }
   ],
   "source": [
    "plt.scatter(covid_data['Confirmed'], covid_data['Deaths'])\n",
    "plt.xlabel('Confirmed')\n",
    "plt.ylabel('Deaths')\n",
    "plt.show()"
   ]
  },
  {
   "cell_type": "code",
   "execution_count": 46,
   "id": "a76ee126-fe46-487e-89f8-e491f8408a6b",
   "metadata": {},
   "outputs": [
    {
     "data": {
      "image/png": "[encoded data removed]",
      "text/plain": [
       "<Figure size 640x480 with 1 Axes>"
      ]
     },
     "metadata": {},
     "output_type": "display_data"
    }
   ],
   "source": [
    "plt.scatter(covid_data['Confirmed'], covid_data['Recovered'])\n",
    "plt.xlabel('Confirmed')\n",
    "plt.ylabel('Recovered')\n",
    "plt.show()"
   ]
  },
  {
   "cell_type": "code",
   "execution_count": 47,
   "id": "06536a60-8d4f-4231-9661-5c32e6dc7409",
   "metadata": {},
   "outputs": [
    {
     "data": {
      "image/png": "[encoded data removed]",
      "text/plain": [
       "<Figure size 640x480 with 1 Axes>"
      ]
     },
     "metadata": {},
     "output_type": "display_data"
    }
   ],
   "source": [
    "plt.scatter(covid_data['Confirmed'], covid_data['Active'])\n",
    "plt.xlabel('Confirmed')\n",
    "plt.ylabel('Active')\n",
    "plt.show()"
   ]
  },
  {
   "cell_type": "code",
   "execution_count": 48,
   "id": "cc1966e4-5282-4462-b053-ada3eaa8a443",
   "metadata": {},
   "outputs": [
    {
     "data": {
      "image/png": "[encoded data removed]",
      "text/plain": [
       "<Figure size 640x480 with 1 Axes>"
      ]
     },
     "metadata": {},
     "output_type": "display_data"
    }
   ],
   "source": [
    "plt.scatter(covid_data['New cases'], covid_data['New deaths'])\n",
    "plt.xlabel('New deaths')\n",
    "plt.ylabel('New cases')\n",
    "plt.show()"
   ]
  },
  {
   "cell_type": "code",
   "execution_count": 49,
   "id": "f44969d4-53d5-40c8-bab2-9fcf02cebae8",
   "metadata": {},
   "outputs": [
    {
     "data": {
      "image/png": "[encoded data removed]",
      "text/plain": [
       "<Figure size 640x480 with 1 Axes>"
      ]
     },
     "metadata": {},
     "output_type": "display_data"
    }
   ],
   "source": [
    "plt.scatter(covid_data['New deaths'], covid_data['Motality Ratio'])\n",
    "plt.xlabel('Motality Ratio')\n",
    "plt.ylabel('New deaths')\n",
    "plt.show()"
   ]
  },
  {
   "cell_type": "code",
   "execution_count": 50,
   "id": "5f3ef032-9bc6-4b19-b3e1-1c7ae44fcecf",
   "metadata": {},
   "outputs": [
    {
     "data": {
      "image/png": "[encoded data removed]",
      "text/plain": [
       "<Figure size 640x480 with 1 Axes>"
      ]
     },
     "metadata": {},
     "output_type": "display_data"
    }
   ],
   "source": [
    "plt.scatter(covid_data['New cases'], covid_data['Motality Ratio'])\n",
    "plt.xlabel('Motality Ratio')\n",
    "plt.ylabel('New cases')\n",
    "plt.show()"
   ]
  },
  {
   "cell_type": "code",
   "execution_count": 51,
   "id": "5b9eac0e-9385-497d-9aaa-89aec179387e",
   "metadata": {},
   "outputs": [
    {
     "data": {
      "image/png": "[encoded data removed]",
      "text/plain": [
       "<Figure size 640x480 with 1 Axes>"
      ]
     },
     "metadata": {},
     "output_type": "display_data"
    }
   ],
   "source": [
    "plt.scatter(covid_data['Confirmed'], covid_data['Daily Growth Rates'])\n",
    "plt.xlabel('Daily Growth Rates')\n",
    "plt.ylabel('Confirmed')\n",
    "plt.show()"
   ]
  },
  {
   "cell_type": "markdown",
   "id": "8e9939ac-f8a2-4635-9d3a-b61d46cdbea9",
   "metadata": {},
   "source": [
    "# **Correlation**"
   ]
  },
  {
   "cell_type": "code",
   "execution_count": 103,
   "id": "295e0eb9-a2e3-4bd1-96a9-39e0f21fa2f0",
   "metadata": {},
   "outputs": [
    {
     "data": {
      "text/html": [
       "<div>\n",
       "<style scoped>\n",
       "    .dataframe tbody tr th:only-of-type {\n",
       "        vertical-align: middle;\n",
       "    }\n",
       "\n",
       "    .dataframe tbody tr th {\n",
       "        vertical-align: top;\n",
       "    }\n",
       "\n",
       "    .dataframe thead th {\n",
       "        text-align: right;\n",
       "    }\n",
       "</style>\n",
       "<table border=\"1\" class=\"dataframe\">\n",
       "  <thead>\n",
       "    <tr style=\"text-align: right;\">\n",
       "      <th></th>\n",
       "      <th>Date</th>\n",
       "      <th>Country/Region</th>\n",
       "      <th>Confirmed</th>\n",
       "      <th>Deaths</th>\n",
       "      <th>Recovered</th>\n",
       "      <th>Active</th>\n",
       "      <th>New cases</th>\n",
       "      <th>New deaths</th>\n",
       "      <th>New recovered</th>\n",
       "      <th>WHO Region</th>\n",
       "      <th>Motality Ratio</th>\n",
       "      <th>Daily Growth Rates</th>\n",
       "    </tr>\n",
       "  </thead>\n",
       "  <tbody>\n",
       "    <tr>\n",
       "      <th>Date</th>\n",
       "      <td>1.000000e+00</td>\n",
       "      <td>-5.720593e-15</td>\n",
       "      <td>0.158197</td>\n",
       "      <td>0.151766</td>\n",
       "      <td>0.192145</td>\n",
       "      <td>0.113321</td>\n",
       "      <td>0.127137</td>\n",
       "      <td>0.083455</td>\n",
       "      <td>0.128326</td>\n",
       "      <td>-2.028911e-15</td>\n",
       "      <td>-0.155181</td>\n",
       "      <td>0.052310</td>\n",
       "    </tr>\n",
       "    <tr>\n",
       "      <th>Country/Region</th>\n",
       "      <td>-5.720593e-15</td>\n",
       "      <td>1.000000e+00</td>\n",
       "      <td>0.055704</td>\n",
       "      <td>0.065930</td>\n",
       "      <td>0.017751</td>\n",
       "      <td>0.074673</td>\n",
       "      <td>0.038726</td>\n",
       "      <td>0.043063</td>\n",
       "      <td>0.002028</td>\n",
       "      <td>5.963186e-02</td>\n",
       "      <td>-0.018568</td>\n",
       "      <td>-0.007552</td>\n",
       "    </tr>\n",
       "    <tr>\n",
       "      <th>Confirmed</th>\n",
       "      <td>1.581969e-01</td>\n",
       "      <td>5.570360e-02</td>\n",
       "      <td>1.000000</td>\n",
       "      <td>0.912016</td>\n",
       "      <td>0.894418</td>\n",
       "      <td>0.949940</td>\n",
       "      <td>0.893966</td>\n",
       "      <td>0.602815</td>\n",
       "      <td>0.675623</td>\n",
       "      <td>2.810138e-03</td>\n",
       "      <td>-0.041328</td>\n",
       "      <td>0.156462</td>\n",
       "    </tr>\n",
       "    <tr>\n",
       "      <th>Deaths</th>\n",
       "      <td>1.517663e-01</td>\n",
       "      <td>6.593034e-02</td>\n",
       "      <td>0.912016</td>\n",
       "      <td>1.000000</td>\n",
       "      <td>0.761093</td>\n",
       "      <td>0.891647</td>\n",
       "      <td>0.767812</td>\n",
       "      <td>0.630283</td>\n",
       "      <td>0.551870</td>\n",
       "      <td>1.541973e-02</td>\n",
       "      <td>-0.004300</td>\n",
       "      <td>0.093579</td>\n",
       "    </tr>\n",
       "    <tr>\n",
       "      <th>Recovered</th>\n",
       "      <td>1.921448e-01</td>\n",
       "      <td>1.775057e-02</td>\n",
       "      <td>0.894418</td>\n",
       "      <td>0.761093</td>\n",
       "      <td>1.000000</td>\n",
       "      <td>0.710665</td>\n",
       "      <td>0.808816</td>\n",
       "      <td>0.515154</td>\n",
       "      <td>0.761926</td>\n",
       "      <td>2.090165e-02</td>\n",
       "      <td>-0.076407</td>\n",
       "      <td>0.221113</td>\n",
       "    </tr>\n",
       "    <tr>\n",
       "      <th>Active</th>\n",
       "      <td>1.133213e-01</td>\n",
       "      <td>7.467318e-02</td>\n",
       "      <td>0.949940</td>\n",
       "      <td>0.891647</td>\n",
       "      <td>0.710665</td>\n",
       "      <td>1.000000</td>\n",
       "      <td>0.846513</td>\n",
       "      <td>0.583213</td>\n",
       "      <td>0.534027</td>\n",
       "      <td>-1.158514e-02</td>\n",
       "      <td>-0.013723</td>\n",
       "      <td>0.094458</td>\n",
       "    </tr>\n",
       "    <tr>\n",
       "      <th>New cases</th>\n",
       "      <td>1.271372e-01</td>\n",
       "      <td>3.872607e-02</td>\n",
       "      <td>0.893966</td>\n",
       "      <td>0.767812</td>\n",
       "      <td>0.808816</td>\n",
       "      <td>0.846513</td>\n",
       "      <td>1.000000</td>\n",
       "      <td>0.733583</td>\n",
       "      <td>0.725761</td>\n",
       "      <td>-1.083394e-02</td>\n",
       "      <td>-0.030074</td>\n",
       "      <td>0.278089</td>\n",
       "    </tr>\n",
       "    <tr>\n",
       "      <th>New deaths</th>\n",
       "      <td>8.345471e-02</td>\n",
       "      <td>4.306286e-02</td>\n",
       "      <td>0.602815</td>\n",
       "      <td>0.630283</td>\n",
       "      <td>0.515154</td>\n",
       "      <td>0.583213</td>\n",
       "      <td>0.733583</td>\n",
       "      <td>1.000000</td>\n",
       "      <td>0.503319</td>\n",
       "      <td>-3.759195e-03</td>\n",
       "      <td>0.008994</td>\n",
       "      <td>0.175510</td>\n",
       "    </tr>\n",
       "    <tr>\n",
       "      <th>New recovered</th>\n",
       "      <td>1.283259e-01</td>\n",
       "      <td>2.028465e-03</td>\n",
       "      <td>0.675623</td>\n",
       "      <td>0.551870</td>\n",
       "      <td>0.761926</td>\n",
       "      <td>0.534027</td>\n",
       "      <td>0.725761</td>\n",
       "      <td>0.503319</td>\n",
       "      <td>1.000000</td>\n",
       "      <td>-5.891610e-04</td>\n",
       "      <td>-0.117852</td>\n",
       "      <td>0.273743</td>\n",
       "    </tr>\n",
       "    <tr>\n",
       "      <th>WHO Region</th>\n",
       "      <td>-2.028911e-15</td>\n",
       "      <td>5.963186e-02</td>\n",
       "      <td>0.002810</td>\n",
       "      <td>0.015420</td>\n",
       "      <td>0.020902</td>\n",
       "      <td>-0.011585</td>\n",
       "      <td>-0.010834</td>\n",
       "      <td>-0.003759</td>\n",
       "      <td>-0.000589</td>\n",
       "      <td>1.000000e+00</td>\n",
       "      <td>-0.033849</td>\n",
       "      <td>0.025959</td>\n",
       "    </tr>\n",
       "    <tr>\n",
       "      <th>Motality Ratio</th>\n",
       "      <td>-1.551809e-01</td>\n",
       "      <td>-1.856826e-02</td>\n",
       "      <td>-0.041328</td>\n",
       "      <td>-0.004300</td>\n",
       "      <td>-0.076407</td>\n",
       "      <td>-0.013723</td>\n",
       "      <td>-0.030074</td>\n",
       "      <td>0.008994</td>\n",
       "      <td>-0.117852</td>\n",
       "      <td>-3.384943e-02</td>\n",
       "      <td>1.000000</td>\n",
       "      <td>-0.015703</td>\n",
       "    </tr>\n",
       "    <tr>\n",
       "      <th>Daily Growth Rates</th>\n",
       "      <td>5.231002e-02</td>\n",
       "      <td>-7.552373e-03</td>\n",
       "      <td>0.156462</td>\n",
       "      <td>0.093579</td>\n",
       "      <td>0.221113</td>\n",
       "      <td>0.094458</td>\n",
       "      <td>0.278089</td>\n",
       "      <td>0.175510</td>\n",
       "      <td>0.273743</td>\n",
       "      <td>2.595904e-02</td>\n",
       "      <td>-0.015703</td>\n",
       "      <td>1.000000</td>\n",
       "    </tr>\n",
       "  </tbody>\n",
       "</table>\n",
       "</div>"
      ],
      "text/plain": [
       "                            Date  Country/Region  Confirmed    Deaths  \\\n",
       "Date                1.000000e+00   -5.720593e-15   0.158197  0.151766   \n",
       "Country/Region     -5.720593e-15    1.000000e+00   0.055704  0.065930   \n",
       "Confirmed           1.581969e-01    5.570360e-02   1.000000  0.912016   \n",
       "Deaths              1.517663e-01    6.593034e-02   0.912016  1.000000   \n",
       "Recovered           1.921448e-01    1.775057e-02   0.894418  0.761093   \n",
       "Active              1.133213e-01    7.467318e-02   0.949940  0.891647   \n",
       "New cases           1.271372e-01    3.872607e-02   0.893966  0.767812   \n",
       "New deaths          8.345471e-02    4.306286e-02   0.602815  0.630283   \n",
       "New recovered       1.283259e-01    2.028465e-03   0.675623  0.551870   \n",
       "WHO Region         -2.028911e-15    5.963186e-02   0.002810  0.015420   \n",
       "Motality Ratio     -1.551809e-01   -1.856826e-02  -0.041328 -0.004300   \n",
       "Daily Growth Rates  5.231002e-02   -7.552373e-03   0.156462  0.093579   \n",
       "\n",
       "                    Recovered    Active  New cases  New deaths  New recovered  \\\n",
       "Date                 0.192145  0.113321   0.127137    0.083455       0.128326   \n",
       "Country/Region       0.017751  0.074673   0.038726    0.043063       0.002028   \n",
       "Confirmed            0.894418  0.949940   0.893966    0.602815       0.675623   \n",
       "Deaths               0.761093  0.891647   0.767812    0.630283       0.551870   \n",
       "Recovered            1.000000  0.710665   0.808816    0.515154       0.761926   \n",
       "Active               0.710665  1.000000   0.846513    0.583213       0.534027   \n",
       "New cases            0.808816  0.846513   1.000000    0.733583       0.725761   \n",
       "New deaths           0.515154  0.583213   0.733583    1.000000       0.503319   \n",
       "New recovered        0.761926  0.534027   0.725761    0.503319       1.000000   \n",
       "WHO Region           0.020902 -0.011585  -0.010834   -0.003759      -0.000589   \n",
       "Motality Ratio      -0.076407 -0.013723  -0.030074    0.008994      -0.117852   \n",
       "Daily Growth Rates   0.221113  0.094458   0.278089    0.175510       0.273743   \n",
       "\n",
       "                      WHO Region  Motality Ratio  Daily Growth Rates  \n",
       "Date               -2.028911e-15       -0.155181            0.052310  \n",
       "Country/Region      5.963186e-02       -0.018568           -0.007552  \n",
       "Confirmed           2.810138e-03       -0.041328            0.156462  \n",
       "Deaths              1.541973e-02       -0.004300            0.093579  \n",
       "Recovered           2.090165e-02       -0.076407            0.221113  \n",
       "Active             -1.158514e-02       -0.013723            0.094458  \n",
       "New cases          -1.083394e-02       -0.030074            0.278089  \n",
       "New deaths         -3.759195e-03        0.008994            0.175510  \n",
       "New recovered      -5.891610e-04       -0.117852            0.273743  \n",
       "WHO Region          1.000000e+00       -0.033849            0.025959  \n",
       "Motality Ratio     -3.384943e-02        1.000000           -0.015703  \n",
       "Daily Growth Rates  2.595904e-02       -0.015703            1.000000  "
      ]
     },
     "execution_count": 103,
     "metadata": {},
     "output_type": "execute_result"
    }
   ],
   "source": [
    "covid_data.corr()"
   ]
  },
  {
   "cell_type": "code",
   "execution_count": 101,
   "id": "b745b11f-9de6-49a6-bf28-98f940b87bba",
   "metadata": {},
   "outputs": [
    {
     "data": {
      "image/png": "[encoded data removed]",
      "text/plain": [
       "<Figure size 640x480 with 2 Axes>"
      ]
     },
     "metadata": {},
     "output_type": "display_data"
    }
   ],
   "source": [
    "sns.heatmap(covid_data.corr())\n",
    "\n",
    "plt.show()"
   ]
  },
  {
   "cell_type": "markdown",
   "id": "750ae640-8838-4723-aa9b-a45b56d179f6",
   "metadata": {},
   "source": [
    "# **Importing Necessary Libraries for the Model training**"
   ]
  },
  {
   "cell_type": "code",
   "execution_count": 142,
   "id": "fdfc7e7f-94d8-45a0-a877-46f5ca40125a",
   "metadata": {},
   "outputs": [],
   "source": [
    "from sklearn.linear_model import LogisticRegression\n",
    "from sklearn.model_selection import train_test_split\n",
    "from sklearn.metrics import  accuracy_score\n",
    "import warnings\n",
    "warnings.filterwarnings(\"ignore\")\n",
    "from statsmodels.tsa.arima.model import ARIMA\n",
    "from sklearn.metrics import mean_squared_error"
   ]
  },
  {
   "cell_type": "markdown",
   "id": "7a607379-fdf5-4117-825f-f67e40a23bc1",
   "metadata": {},
   "source": [
    "# Preparing Data for Training"
   ]
  },
  {
   "cell_type": "code",
   "execution_count": 146,
   "id": "8bacf91a-5d25-40b2-a4a4-44ec8328da6e",
   "metadata": {},
   "outputs": [],
   "source": [
    "covid_data.set_index('Date', inplace = True)"
   ]
  },
  {
   "cell_type": "code",
   "execution_count": 148,
   "id": "f94edd7a-6e0c-420e-a9b3-905e3345c983",
   "metadata": {},
   "outputs": [
    {
     "data": {
      "text/html": [
       "<div>\n",
       "<style scoped>\n",
       "    .dataframe tbody tr th:only-of-type {\n",
       "        vertical-align: middle;\n",
       "    }\n",
       "\n",
       "    .dataframe tbody tr th {\n",
       "        vertical-align: top;\n",
       "    }\n",
       "\n",
       "    .dataframe thead th {\n",
       "        text-align: right;\n",
       "    }\n",
       "</style>\n",
       "<table border=\"1\" class=\"dataframe\">\n",
       "  <thead>\n",
       "    <tr style=\"text-align: right;\">\n",
       "      <th></th>\n",
       "      <th>Country/Region</th>\n",
       "      <th>Confirmed</th>\n",
       "      <th>Deaths</th>\n",
       "      <th>Recovered</th>\n",
       "      <th>Active</th>\n",
       "      <th>New cases</th>\n",
       "      <th>New deaths</th>\n",
       "      <th>New recovered</th>\n",
       "      <th>WHO Region</th>\n",
       "      <th>Motality Ratio</th>\n",
       "      <th>Daily Growth Rates</th>\n",
       "    </tr>\n",
       "    <tr>\n",
       "      <th>Date</th>\n",
       "      <th></th>\n",
       "      <th></th>\n",
       "      <th></th>\n",
       "      <th></th>\n",
       "      <th></th>\n",
       "      <th></th>\n",
       "      <th></th>\n",
       "      <th></th>\n",
       "      <th></th>\n",
       "      <th></th>\n",
       "      <th></th>\n",
       "    </tr>\n",
       "  </thead>\n",
       "  <tbody>\n",
       "    <tr>\n",
       "      <th>2020-01-22</th>\n",
       "      <td>0</td>\n",
       "      <td>0.000000</td>\n",
       "      <td>0.000000</td>\n",
       "      <td>0.000000</td>\n",
       "      <td>0.000000</td>\n",
       "      <td>0.000000</td>\n",
       "      <td>0.000000</td>\n",
       "      <td>0.000000</td>\n",
       "      <td>2</td>\n",
       "      <td>0.000000</td>\n",
       "      <td>0.000000</td>\n",
       "    </tr>\n",
       "    <tr>\n",
       "      <th>2020-01-22</th>\n",
       "      <td>1</td>\n",
       "      <td>0.000000</td>\n",
       "      <td>0.000000</td>\n",
       "      <td>0.000000</td>\n",
       "      <td>0.000000</td>\n",
       "      <td>0.000000</td>\n",
       "      <td>0.000000</td>\n",
       "      <td>0.000000</td>\n",
       "      <td>3</td>\n",
       "      <td>0.000000</td>\n",
       "      <td>0.000000</td>\n",
       "    </tr>\n",
       "    <tr>\n",
       "      <th>2020-01-22</th>\n",
       "      <td>2</td>\n",
       "      <td>0.000000</td>\n",
       "      <td>0.000000</td>\n",
       "      <td>0.000000</td>\n",
       "      <td>0.000000</td>\n",
       "      <td>0.000000</td>\n",
       "      <td>0.000000</td>\n",
       "      <td>0.000000</td>\n",
       "      <td>0</td>\n",
       "      <td>0.000000</td>\n",
       "      <td>0.000000</td>\n",
       "    </tr>\n",
       "    <tr>\n",
       "      <th>2020-01-22</th>\n",
       "      <td>3</td>\n",
       "      <td>0.000000</td>\n",
       "      <td>0.000000</td>\n",
       "      <td>0.000000</td>\n",
       "      <td>0.000000</td>\n",
       "      <td>0.000000</td>\n",
       "      <td>0.000000</td>\n",
       "      <td>0.000000</td>\n",
       "      <td>3</td>\n",
       "      <td>0.000000</td>\n",
       "      <td>0.000000</td>\n",
       "    </tr>\n",
       "    <tr>\n",
       "      <th>2020-01-22</th>\n",
       "      <td>4</td>\n",
       "      <td>0.000000</td>\n",
       "      <td>0.000000</td>\n",
       "      <td>0.000000</td>\n",
       "      <td>0.000000</td>\n",
       "      <td>0.000000</td>\n",
       "      <td>0.000000</td>\n",
       "      <td>0.000000</td>\n",
       "      <td>0</td>\n",
       "      <td>0.000000</td>\n",
       "      <td>0.000000</td>\n",
       "    </tr>\n",
       "    <tr>\n",
       "      <th>...</th>\n",
       "      <td>...</td>\n",
       "      <td>...</td>\n",
       "      <td>...</td>\n",
       "      <td>...</td>\n",
       "      <td>...</td>\n",
       "      <td>...</td>\n",
       "      <td>...</td>\n",
       "      <td>...</td>\n",
       "      <td>...</td>\n",
       "      <td>...</td>\n",
       "      <td>...</td>\n",
       "    </tr>\n",
       "    <tr>\n",
       "      <th>2020-07-27</th>\n",
       "      <td>182</td>\n",
       "      <td>0.002476</td>\n",
       "      <td>0.000527</td>\n",
       "      <td>0.002032</td>\n",
       "      <td>0.002411</td>\n",
       "      <td>0.001968</td>\n",
       "      <td>0.000515</td>\n",
       "      <td>0.000000</td>\n",
       "      <td>2</td>\n",
       "      <td>0.001968</td>\n",
       "      <td>12.818182</td>\n",
       "    </tr>\n",
       "    <tr>\n",
       "      <th>2020-07-27</th>\n",
       "      <td>183</td>\n",
       "      <td>0.000002</td>\n",
       "      <td>0.000007</td>\n",
       "      <td>0.000004</td>\n",
       "      <td>0.000000</td>\n",
       "      <td>0.000000</td>\n",
       "      <td>0.000000</td>\n",
       "      <td>0.000000</td>\n",
       "      <td>0</td>\n",
       "      <td>0.000000</td>\n",
       "      <td>-1.000000</td>\n",
       "    </tr>\n",
       "    <tr>\n",
       "      <th>2020-07-27</th>\n",
       "      <td>184</td>\n",
       "      <td>0.000394</td>\n",
       "      <td>0.003263</td>\n",
       "      <td>0.000451</td>\n",
       "      <td>0.000133</td>\n",
       "      <td>0.000129</td>\n",
       "      <td>0.001029</td>\n",
       "      <td>0.000257</td>\n",
       "      <td>2</td>\n",
       "      <td>-0.249660</td>\n",
       "      <td>0.000000</td>\n",
       "    </tr>\n",
       "    <tr>\n",
       "      <th>2020-07-27</th>\n",
       "      <td>185</td>\n",
       "      <td>0.001061</td>\n",
       "      <td>0.000946</td>\n",
       "      <td>0.001524</td>\n",
       "      <td>0.000567</td>\n",
       "      <td>0.000919</td>\n",
       "      <td>0.000257</td>\n",
       "      <td>0.003320</td>\n",
       "      <td>0</td>\n",
       "      <td>-12.904865</td>\n",
       "      <td>6.100000</td>\n",
       "    </tr>\n",
       "    <tr>\n",
       "      <th>2020-07-27</th>\n",
       "      <td>186</td>\n",
       "      <td>0.000630</td>\n",
       "      <td>0.000243</td>\n",
       "      <td>0.000294</td>\n",
       "      <td>0.000755</td>\n",
       "      <td>0.002485</td>\n",
       "      <td>0.000515</td>\n",
       "      <td>0.000171</td>\n",
       "      <td>0</td>\n",
       "      <td>-0.330567</td>\n",
       "      <td>1.704225</td>\n",
       "    </tr>\n",
       "  </tbody>\n",
       "</table>\n",
       "<p>35156 rows × 11 columns</p>\n",
       "</div>"
      ],
      "text/plain": [
       "            Country/Region  Confirmed    Deaths  Recovered    Active  \\\n",
       "Date                                                                   \n",
       "2020-01-22               0   0.000000  0.000000   0.000000  0.000000   \n",
       "2020-01-22               1   0.000000  0.000000   0.000000  0.000000   \n",
       "2020-01-22               2   0.000000  0.000000   0.000000  0.000000   \n",
       "2020-01-22               3   0.000000  0.000000   0.000000  0.000000   \n",
       "2020-01-22               4   0.000000  0.000000   0.000000  0.000000   \n",
       "...                    ...        ...       ...        ...       ...   \n",
       "2020-07-27             182   0.002476  0.000527   0.002032  0.002411   \n",
       "2020-07-27             183   0.000002  0.000007   0.000004  0.000000   \n",
       "2020-07-27             184   0.000394  0.003263   0.000451  0.000133   \n",
       "2020-07-27             185   0.001061  0.000946   0.001524  0.000567   \n",
       "2020-07-27             186   0.000630  0.000243   0.000294  0.000755   \n",
       "\n",
       "            New cases  New deaths  New recovered  WHO Region  Motality Ratio  \\\n",
       "Date                                                                           \n",
       "2020-01-22   0.000000    0.000000       0.000000           2        0.000000   \n",
       "2020-01-22   0.000000    0.000000       0.000000           3        0.000000   \n",
       "2020-01-22   0.000000    0.000000       0.000000           0        0.000000   \n",
       "2020-01-22   0.000000    0.000000       0.000000           3        0.000000   \n",
       "2020-01-22   0.000000    0.000000       0.000000           0        0.000000   \n",
       "...               ...         ...            ...         ...             ...   \n",
       "2020-07-27   0.001968    0.000515       0.000000           2        0.001968   \n",
       "2020-07-27   0.000000    0.000000       0.000000           0        0.000000   \n",
       "2020-07-27   0.000129    0.001029       0.000257           2       -0.249660   \n",
       "2020-07-27   0.000919    0.000257       0.003320           0      -12.904865   \n",
       "2020-07-27   0.002485    0.000515       0.000171           0       -0.330567   \n",
       "\n",
       "            Daily Growth Rates  \n",
       "Date                            \n",
       "2020-01-22            0.000000  \n",
       "2020-01-22            0.000000  \n",
       "2020-01-22            0.000000  \n",
       "2020-01-22            0.000000  \n",
       "2020-01-22            0.000000  \n",
       "...                        ...  \n",
       "2020-07-27           12.818182  \n",
       "2020-07-27           -1.000000  \n",
       "2020-07-27            0.000000  \n",
       "2020-07-27            6.100000  \n",
       "2020-07-27            1.704225  \n",
       "\n",
       "[35156 rows x 11 columns]"
      ]
     },
     "execution_count": 148,
     "metadata": {},
     "output_type": "execute_result"
    }
   ],
   "source": [
    "covid_data"
   ]
  },
  {
   "cell_type": "code",
   "execution_count": 169,
   "id": "6a9d9674-ffa8-4859-addd-b3dc6d0c5f5f",
   "metadata": {},
   "outputs": [],
   "source": [
    "Data_covid = covid_data.drop(columns = ['Country/Region', 'WHO Region', 'Motality Ratio', 'Daily Growth Rates'],axis=1)"
   ]
  },
  {
   "cell_type": "code",
   "execution_count": 171,
   "id": "d13301b6-58a3-4e93-a8c2-8d11729c7b7b",
   "metadata": {},
   "outputs": [
    {
     "data": {
      "image/png": "[encoded data removed]",
      "text/plain": [
       "<Figure size 640x480 with 2 Axes>"
      ]
     },
     "metadata": {},
     "output_type": "display_data"
    }
   ],
   "source": [
    "sns.heatmap(Data_covid.corr())\n",
    "\n",
    "plt.show()"
   ]
  },
  {
   "cell_type": "markdown",
   "id": "2a112aea-b1ae-4dd5-85b3-9aee1e26dbf4",
   "metadata": {},
   "source": [
    "# Splitting Data to train data and Test data"
   ]
  },
  {
   "cell_type": "code",
   "execution_count": 173,
   "id": "cc8008f5-b62d-4c06-a2bd-0443ca403998",
   "metadata": {},
   "outputs": [],
   "source": [
    "train_size = int(0.8 * len(Data_covid))\n",
    "train_data, test_data = Data_covid[0:train_size], Data_covid[train_size:len(Data_covid)]"
   ]
  },
  {
   "cell_type": "code",
   "execution_count": 175,
   "id": "657a5857-d2d9-4fac-8413-63a7c3c660b2",
   "metadata": {},
   "outputs": [
    {
     "name": "stdout",
     "output_type": "stream",
     "text": [
      "(28124, 7) (7032, 7)\n"
     ]
    }
   ],
   "source": [
    "print(train_data.shape, test_data.shape)"
   ]
  },
  {
   "cell_type": "markdown",
   "id": "7f8f17aa-3a99-4eb6-ae32-30526e3fd812",
   "metadata": {},
   "source": [
    "# **Model Training** : Create and Fit the ARIMA model"
   ]
  },
  {
   "cell_type": "code",
   "execution_count": 177,
   "id": "31f5ef59-a1d3-42ef-82a7-57f1c94f10aa",
   "metadata": {},
   "outputs": [
    {
     "name": "stderr",
     "output_type": "stream",
     "text": [
      "C:\\Users\\user\\anaconda3\\Lib\\site-packages\\statsmodels\\tsa\\base\\tsa_model.py:473: ValueWarning: A date index has been provided, but it has no associated frequency information and so will be ignored when e.g. forecasting.\n",
      "  self._init_dates(dates, freq)\n",
      "C:\\Users\\user\\anaconda3\\Lib\\site-packages\\statsmodels\\tsa\\base\\tsa_model.py:473: ValueWarning: A date index has been provided, but it has no associated frequency information and so will be ignored when e.g. forecasting.\n",
      "  self._init_dates(dates, freq)\n",
      "C:\\Users\\user\\anaconda3\\Lib\\site-packages\\statsmodels\\tsa\\base\\tsa_model.py:473: ValueWarning: A date index has been provided, but it has no associated frequency information and so will be ignored when e.g. forecasting.\n",
      "  self._init_dates(dates, freq)\n"
     ]
    }
   ],
   "source": [
    "model= ARIMA(train_data['New cases'], order=(5,1,0))\n",
    "model_fit = model.fit()"
   ]
  },
  {
   "cell_type": "markdown",
   "id": "607cc201-7581-4be3-8ab2-d90ac4c3d374",
   "metadata": {},
   "source": [
    "# Generating Predictions"
   ]
  },
  {
   "cell_type": "code",
   "execution_count": 180,
   "id": "08424644-6e1d-482a-834c-2c88b85f1ab1",
   "metadata": {},
   "outputs": [
    {
     "name": "stderr",
     "output_type": "stream",
     "text": [
      "C:\\Users\\user\\anaconda3\\Lib\\site-packages\\statsmodels\\tsa\\base\\tsa_model.py:836: ValueWarning: No supported index is available. Prediction results will be given with an integer index beginning at `start`.\n",
      "  return get_prediction_index(\n"
     ]
    }
   ],
   "source": [
    "predictions = model_fit.predict(start=len(train_data), end=len(Data_covid)-1, typ='levels')"
   ]
  },
  {
   "cell_type": "markdown",
   "id": "f37f7a60-0e48-49cf-95b4-3d012efcadda",
   "metadata": {},
   "source": [
    "# **Evaluate the Model**"
   ]
  },
  {
   "cell_type": "code",
   "execution_count": 185,
   "id": "fd418678-6c97-40f1-942a-12ef5bf367ec",
   "metadata": {},
   "outputs": [
    {
     "name": "stdout",
     "output_type": "stream",
     "text": [
      "MSE:  0.005314442065479975\n"
     ]
    }
   ],
   "source": [
    "mse = mean_squared_error(test_data['New cases'], predictions)\n",
    "print('MSE: ', mse)"
   ]
  },
  {
   "cell_type": "markdown",
   "id": "3feeabf1-dbee-4494-b66c-3f8c79a87b17",
   "metadata": {},
   "source": [
    "# Mean Squared Error(MSE) close to 0 indicate a perfect working model"
   ]
  },
  {
   "cell_type": "markdown",
   "id": "49456c84-f652-4504-852f-98196abc54ad",
   "metadata": {},
   "source": [
    "# **Checking the Root Mean Squared Error (RMSE)**\n",
    "\n",
    "# To provide a more interpretable error metric"
   ]
  },
  {
   "cell_type": "code",
   "execution_count": 189,
   "id": "9f308d08-a61b-492c-92b4-fe2f56fe2bff",
   "metadata": {},
   "outputs": [
    {
     "name": "stdout",
     "output_type": "stream",
     "text": [
      "RMSE:  0.07290021992751444\n"
     ]
    }
   ],
   "source": [
    "rmse = np.sqrt(mse)\n",
    "print('RMSE: ', rmse)"
   ]
  },
  {
   "cell_type": "markdown",
   "id": "82e2bc77-a640-43c2-9530-ec030603242e",
   "metadata": {},
   "source": [
    "*Value of RMSE < 0.1(or 10% of the mean of the actual values) - Indicates that the model is highly accurate and reliable."
   ]
  }
 ],
 "metadata": {
  "kernelspec": {
   "display_name": "Python 3 (ipykernel)",
   "language": "python",
   "name": "python3"
  },
  "language_info": {
   "codemirror_mode": {
    "name": "ipython",
    "version": 3
   },
   "file_extension": ".py",
   "mimetype": "text/x-python",
   "name": "python",
   "nbconvert_exporter": "python",
   "pygments_lexer": "ipython3",
   "version": "3.12.4"
  }
 },
 "nbformat": 4,
 "nbformat_minor": 5
}
